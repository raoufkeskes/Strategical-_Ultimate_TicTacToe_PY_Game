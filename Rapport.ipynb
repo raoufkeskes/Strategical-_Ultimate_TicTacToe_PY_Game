{
 "cells": [
  {
   "cell_type": "markdown",
   "metadata": {},
   "source": [
    "![Logo](img/logo.jpg)\n",
    "\n",
    "# RAPPORT DU PROJET ULTIMATE TIC TAC TOE 2017-2018 Sorbonne Université\n",
    "## Abdelraouf KESKES  3701191  \n",
    "\n",
    "\n",
    "### 1) Introduction\n",
    "Dans le cadre de l’UE 3I025, J'ai étudié plusieurs problématiques dans la théorie des jeux notamment sur des systèmes multi-agents , et comme application j'ai pris le problème du ' Ultimate Tic Tac Toe ' dans le cadre d'un jeu autonome de deux joueurs .Ce dernier a été basé particulièrement sur l'algorithme A\\* pour tous les déplacements des joueurs , on verra plus de détails dans la suite .\n",
    "### 2) Présentation du jeu et des règles \n",
    "Dans ce jeu , on met en compétition deux joueurs qui s'affrontent sur une grille contenant  9 grilles du fameux jeux tic tac toe 3 x 3  \n",
    "Les règles de base sont les suivantes:  \n",
    "* chaque joueur, à son tour, ramasse une fiole de sa couleur et l'utilise comme un pion pour jouer sur un petit terrain de TicTacToe\n",
    "* en jouant sur une case donnée de son terrain, le joueur contraint le terrain sur lequel l'autre joueur pourra jouer. \n",
    "* lorsqu'un joueur gagne une partie sur un petit terrain, il gagne ce terrain\n",
    "* Si un petit terrain est gagné par l'un des deux joueurs il devient plus jouable \n",
    "* lorsqu'un joueur aligne trois petits terrains victorieux, il gagne globalement la partie\n"
   ]
  },
  {
   "cell_type": "markdown",
   "metadata": {},
   "source": [
    "### 3) L'Algorithme A\\* et son implémentation\n",
    "Pour l'implémenter tout d'abord j'ai eu besoin d'un tas à priorité  pour gérer la frontière"
   ]
  },
  {
   "cell_type": "code",
   "execution_count": 4,
   "metadata": {
    "collapsed": true
   },
   "outputs": [],
   "source": [
    "import heapq\n",
    "############### PriorityQueue Class pour gérer la frontière ########################\n",
    "\n",
    "class PriorityQueue:\n",
    "    def __init__(self):\n",
    "        self.elements = []\n",
    "    \n",
    "    def empty(self):\n",
    "        return len(self.elements) == 0\n",
    "    \n",
    "    def put(self, item, priority):\n",
    "        heapq.heappush(self.elements, (priority, item))\n",
    "    \n",
    "    def get(self):\n",
    "        return heapq.heappop(self.elements)[1]\n",
    "\n",
    "#####################################################################################"
   ]
  },
  {
   "cell_type": "markdown",
   "metadata": {},
   "source": [
    "Ensuite comme heuristique de l'algorithme A* , J'ai utilisé la distance de manhattan : "
   ]
  },
  {
   "cell_type": "code",
   "execution_count": 5,
   "metadata": {
    "collapsed": true
   },
   "outputs": [],
   "source": [
    "#Distance de manhattan \n",
    "def heuristic(a, b):\n",
    "    (x1, y1) = a\n",
    "    (x2, y2) = b\n",
    "    return abs(x1 - x2) + abs(y1 - y2)"
   ]
  },
  {
   "cell_type": "markdown",
   "metadata": {},
   "source": [
    "Et enfin J'ai implémenté  l'algorithme A* par la fonction  __a_star_search__ qui prend en argument notre grille de jeu (graph) , avec une case de départ et une case d'arrivée et il retourne : \n",
    "* une liste des came_from ( le Noeud Parent Optimal )  de toutes les cases exploitées\n",
    "* une liste des coûts de toutes les cases ( Les noeuds ) exploitées"
   ]
  },
  {
   "cell_type": "code",
   "execution_count": 7,
   "metadata": {
    "collapsed": true
   },
   "outputs": [],
   "source": [
    "def a_star_search(graph, start, goal):\n",
    "    frontier = PriorityQueue()\n",
    "    frontier.put(start, 0)\n",
    "    came_from = {}\n",
    "    cost_so_far = {}\n",
    "    came_from[start] = None\n",
    "    cost_so_far[start] = 0\n",
    "    \n",
    "    while not frontier.empty():\n",
    "        current = frontier.get()\n",
    "        \n",
    "        if current == goal:\n",
    "            break\n",
    "        \n",
    "        for next in graph.neighbors(current):\n",
    "            new_cost = cost_so_far[current] + graph.cost(current, next)\n",
    "            if next not in cost_so_far or new_cost < cost_so_far[next]:\n",
    "                cost_so_far[next] = new_cost\n",
    "                priority = new_cost + heuristic(goal, next)\n",
    "                frontier.put(next, priority)\n",
    "                came_from[next] = current\n",
    "    \n",
    "    return came_from, cost_so_far"
   ]
  },
  {
   "cell_type": "markdown",
   "metadata": {},
   "source": [
    "### 4) Classes  et Fonctions  utilisées \n",
    "##### Classe GameGrid :\n",
    "C'est une classe représentant la grille du jeu définie par sa longueur (*width*) , largeur (*height* )  , ses murs ( *walls* ) et un attribut poids ( *weights* ) qui nous aidera pour l'application de l'algorithme A\\* . \n",
    "Ses méthodes : \n",
    "* in_bounds : elle prend une case en argument (x,y) et retourne vrai  si c'est une case dans la grille du jeu\n",
    "* passable  : elle prend une case en argument (x,y) et retourne Vrai si c'est un point qui n'est pas mur\n",
    "* neighbors : elle prend une case en argument (x,y) et retourne la liste de ses points voisins valides ( qui sont ni mur ni en dehors la grille ) \n",
    "* reconstruct_path : elle prend en argument une liste (came_from ) [ qui pour chaque case (x,y) nous donne son père la case  par laquelle on a pu l'atteindre ] , deux cases  , une case de départ et une case d'arrivée .Elle retourne le chemin optimal  entres ses deux cases en partant bien évidemment de la case de départ  et en appliquant A* .\n",
    "* Cost : Elle retourne le coût entre deux cases   et dans notre exemple de ce jeu le coût sera 1 entre deux cases voisines ."
   ]
  },
  {
   "cell_type": "code",
   "execution_count": null,
   "metadata": {
    "collapsed": true
   },
   "outputs": [],
   "source": [
    "class GameGrid:\n",
    "    def __init__(self, width, height,walls):\n",
    "        self.width = width\n",
    "        self.height = height\n",
    "        self.walls = walls\n",
    "        self.weights = {}\n",
    "    \n",
    "    #Si un point id=(x,y)  est une case dans le terrain du jeu\n",
    "    def in_bounds(self, id):\n",
    "        (x, y) = id\n",
    "        return 0 <= x < self.width and 0 <= y < self.height\n",
    "\n",
    "    #Si une Case id=(x,y)  n'est pas une Case Mur\n",
    "    def passable(self, id):\n",
    "        return id not in self.walls\n",
    "\n",
    "    #Retourne tous les voisins valides d'une case id\n",
    "    def neighbors(self, id):\n",
    "        (x, y) = id\n",
    "        results = [(x+1, y), (x, y-1), (x-1, y), (x, y+1)]\n",
    "        if (x + y) % 2 == 0: results.reverse() # aesthetics\n",
    "        results = filter(self.in_bounds, results)\n",
    "        results = filter(self.passable, results)\n",
    "        return results\n",
    "\n",
    "    #Retourne le chemin optimal d'une case 'start' vers une case 'goal'\n",
    "    #Elle sera appelée directement après L'execution de l algorithme A*\n",
    "    def reconstruct_path(self,came_from, start, goal):\n",
    "        current = goal\n",
    "        path = []\n",
    "        while current != start:\n",
    "            path.append(current)\n",
    "            current = came_from[current]\n",
    "        path.append(start) # optional\n",
    "        path.reverse() # optional\n",
    "        return path\n",
    "\n",
    "    #Retourne le coût d'un noeud source vers Noeud Destinataire\n",
    "    def cost(self, from_node, to_node):\n",
    "        return self.weights.get(to_node, 1)"
   ]
  },
  {
   "cell_type": "markdown",
   "metadata": {},
   "source": [
    "##### La fonction init :\n",
    "Une fonction prédéfinie par l'énnoncè du projet , permettant d'initialiser la partie graphique du Jeu :"
   ]
  },
  {
   "cell_type": "code",
   "execution_count": 8,
   "metadata": {},
   "outputs": [
    {
     "ename": "SyntaxError",
     "evalue": "invalid syntax (<ipython-input-8-c92dc08c0a09>, line 1)",
     "output_type": "error",
     "traceback": [
      "\u001b[0;36m  File \u001b[0;32m\"<ipython-input-8-c92dc08c0a09>\"\u001b[0;36m, line \u001b[0;32m1\u001b[0m\n\u001b[0;31m    init(_boardname=None):\u001b[0m\n\u001b[0m                          ^\u001b[0m\n\u001b[0;31mSyntaxError\u001b[0m\u001b[0;31m:\u001b[0m invalid syntax\n"
     ]
    }
   ],
   "source": [
    "init(_boardname=None):\n",
    "    global player,game\n",
    "    # pathfindingWorld_MultiPlayer4\n",
    "    name = _boardname if _boardname is not None else 'tictactoeBis'\n",
    "    game = Game('Cartes/' + name + '.json', SpriteBuilder)\n",
    "    game.O = Ontology(True, 'SpriteSheet-32x32/tiny_spritesheet_ontology.csv')\n",
    "    game.populate_sprite_names(game.O)\n",
    "    game.fps = 20  # frames per second\n",
    "    game.mainiteration()\n",
    "    game.mask.allow_overlaping_players = True\n",
    "    #player = game.player"
   ]
  },
  {
   "cell_type": "markdown",
   "metadata": {},
   "source": [
    "##### La fonction couleur : \n",
    "Elle prend en argument un objet du Jeu et retourne sa couleur  ( j : Jaune , B : Bleu ) "
   ]
  },
  {
   "cell_type": "code",
   "execution_count": null,
   "metadata": {
    "collapsed": true
   },
   "outputs": [],
   "source": [
    "def couleur(o):\n",
    "        if o.tileid==tile_fiole_jaune:\n",
    "            return 'j'\n",
    "        elif o.tileid==tile_fiole_bleue:\n",
    "            return 'b'"
   ]
  },
  {
   "cell_type": "markdown",
   "metadata": {},
   "source": [
    "#### La fonction  put_next_fiole :\n",
    "* elle prend en argument un joueur et un tour pour lui générer une fiole et la mettre aléatoirement dans le contour de la grille  des 9 petits terrains (3x3)\n",
    "- Elle retourne un tuple de la position générée (x,y)"
   ]
  },
  {
   "cell_type": "code",
   "execution_count": null,
   "metadata": {
    "collapsed": true
   },
   "outputs": [],
   "source": [
    " def put_next_fiole(j,t):\n",
    "        o = all_fioles[j][t]\n",
    "    \n",
    "        # et on met cette fiole qqpart au hasard\n",
    "    \n",
    "        x = random.randint(1,19)\n",
    "        y = random.randint(1,19)\n",
    "    \n",
    "        while (x,y) in tictactoeStates or (x,y) in wallStates: # ... mais pas sur un mur\n",
    "            x = random.randint(1,19)\n",
    "            y = random.randint(1,19)\n",
    "        o.set_rowcol(x,y)\n",
    "        # on ajoute cette fiole dans le dictionnaire\n",
    "        #fioles[(x,y)]=couleur(o)\n",
    "    \n",
    "        game.layers['ramassable'].add(o)\n",
    "        game.mainiteration()\n",
    "        return (x,y)"
   ]
  },
  {
   "cell_type": "markdown",
   "metadata": {},
   "source": [
    "#### La fonction win_index :\n",
    "Elle prend en argument une grille 3x3 et une couleur , elle cherche un indice gagnant pour une couleur par rapport à l'état actuel de la grille  le premier indice trouvé elle le retourne , elle le retourne ."
   ]
  },
  {
   "cell_type": "code",
   "execution_count": null,
   "metadata": {
    "collapsed": true
   },
   "outputs": [],
   "source": [
    "#retourne l indexe d'une case gagnante \n",
    "def win_index ( Grille , color ) :\n",
    "        for tuplee in ligne_gagnante :\n",
    "            count = 0\n",
    "            winindex = 0\n",
    "            for i in range(3):\n",
    "                if ( Grille[tuplee[i]][2] != '' and Grille[tuplee[i]][2] == color ) :\n",
    "                    count += 1\n",
    "                else :\n",
    "                    winindex = i \n",
    "            if ( count == 2 ) :\n",
    "                return winindex"
   ]
  },
  {
   "cell_type": "markdown",
   "metadata": {},
   "source": [
    "#### La fonction    is_Win :\n",
    "qui prend en argument un joueur ( indice ) et dit si ce dernier a gagné la partie ou pas "
   ]
  },
  {
   "cell_type": "code",
   "execution_count": null,
   "metadata": {
    "collapsed": true
   },
   "outputs": [],
   "source": [
    "def is_Win(joueur):\n",
    "        for tuplee in ligne_gagnante :\n",
    "            counter = 0 \n",
    "            for el in tuplee :\n",
    "                if ( joueur == 1 ) : grillesGagnee = grille_gagneeJ1\n",
    "                else : grillesGagnee = grille_gagneeJ2\n",
    "                if ( el in grillesGagnee ) : counter += 1\n",
    "            if ( counter == 3 ) :\n",
    "                print (\" Le joueur \",joueur,\" a gagné\")\n",
    "                sys.exit ()"
   ]
  },
  {
   "cell_type": "markdown",
   "metadata": {},
   "source": [
    "#### La fonction dead_grid :\n",
    "Elle prend en argument l'indice d'un petit terrain 3x3 et retourne vrai si ce terrain est gagné .\n",
    "\n",
    "Elle teste aussi  si un joueur a gagné la partie entière ou pas dans le cas ou un petit terrain a été gagné par un des deux joueurs"
   ]
  },
  {
   "cell_type": "code",
   "execution_count": null,
   "metadata": {
    "collapsed": true
   },
   "outputs": [],
   "source": [
    "def dead_grid (index) :\n",
    "        Grille = Grilles[index]\n",
    "        for tuplee in ligne_gagnante :\n",
    "            count1 = 0\n",
    "            count2 = 0\n",
    "            for i in range(3):\n",
    "                if ( Grille[tuplee[i]][2] != '' and Grille[tuplee[i]][2] == 'j' ) :\n",
    "                    count1 += 1\n",
    "                if ( Grille[tuplee[i]][2] != ''and Grille[tuplee[i]][2] == 'b' ) :\n",
    "                    count2 += 1\n",
    "            if ( count1 == 3 ) :\n",
    "                    grille_gagneeJ1.add(index)\n",
    "                    is_Win(1)\n",
    "                    return True \n",
    "            if ( count2 == 3 ) :\n",
    "                    grille_gagneeJ2.add(index)\n",
    "                    is_Win(2)\n",
    "                    return True "
   ]
  },
  {
   "cell_type": "markdown",
   "metadata": {},
   "source": [
    "### 5) Détails Techniques\n",
    "+ La terrain global est représenté par une une liste de 9 listes  , chacunes de ces dernières  représente un terrain 3x3  et pour chaque  case je sauvgarde ses 2 indices (x,y) - pour agir sur elle graphiquement -  et son contenu soit '' soit 'j' ou 'b' .\n",
    "+ __Stratégie Joueur 1__ : Déjà il joue toujours en premier , ça augmente ses chances pour gagner , la stratégie que j'ai choisie repose essentiellement  sur plusieurs parties que j'ai joué Online contre un bot et je l'ai battu en plusieurs reprises  avec une stratégie simple et efficace que j'ai développée , j'ai pas pu l'implémenter en entier  car des fois ça nécessite de l'intelligence humaine qui peut être implémentée avec des tests  plus approfondis or j'ai pas eu assez de temps   pour le faire vu le DeadLine . La stratégie dit qu'il faut jouer  dans les coins des grilles 3 x 3 en commençant par la table du milieu de préférence  les cases de coin sont 0 , 2 , 6 , 8 . Le premier terrain qu'on vise de gagner est le terrain  milieu et le plutôt possible et empêcher l'adversaire de le gagner . Au début , l'adversaire  va gagner  quelques petits terrains de coins .Ensuite la situation se renverse et il se retrouve coincé . Le moindre geste qu'il joue ça nous fait gagner un petit terrain .\n",
    "J'ai gagné plus de 40 parties avec cette stratégie \n",
    "\n",
    "Voici quelques exemples : \n",
    "![alt-text-1](img/win1.png) ![alt-text-2](img/win2.png) ![alt-text-3](img/win3.png)\n",
    "\n",
    "+ __Stratégie Joueur 2__ : J'ai fait en sorte qu'il joue aléatoirement  parce que si je mets  deux joueurs stratégiques dans la majorité des cas  ça finira toujours par une égalité , et c'est pas ce qu'on cherche vraiment à obtenir ,et comme j'ai pas implémenté entièrement la stratégie du joueur 1 y'aura des cas ou le joueur aléatoire gagnera,ça reste probable "
   ]
  },
  {
   "cell_type": "markdown",
   "metadata": {},
   "source": [
    "### 6) Conclusion\n",
    "D'après de longues recherches sur internet  et de nombreuses parties joué , j'ai réalisé que ce jeu reste quand même très stratégique et qu'on est toujours pas arrivé à une stratégie toujours gagnante , même avec le reinforcement learning , le Bot reste quand même battable si on joue en premier . "
   ]
  },
  {
   "cell_type": "markdown",
   "metadata": {},
   "source": [
    "### Références\n",
    "https://mathwithbaddrawings.com/ultimate-tic-tac-toe-original-post/\n",
    "\n",
    "https://en.wikipedia.org/wiki/Ultimate_tic-tac-toe\n",
    "\n",
    "https://boardgames.stackexchange.com/questions/12477/is-ultimate-tic-tac-toe-solved\n",
    "\n",
    "http://www.cs.huji.ac.il/~ai/projects/2013/U2T3P/files/AI_Report.pdf\n",
    "\n",
    "http://www.redblobgames.com/pathfinding/a-star/introduction.html"
   ]
  }
 ],
 "metadata": {
  "kernelspec": {
   "display_name": "Python 3",
   "language": "python",
   "name": "python3"
  },
  "language_info": {
   "codemirror_mode": {
    "name": "ipython",
    "version": 3
   },
   "file_extension": ".py",
   "mimetype": "text/x-python",
   "name": "python",
   "nbconvert_exporter": "python",
   "pygments_lexer": "ipython3",
   "version": "3.6.3"
  }
 },
 "nbformat": 4,
 "nbformat_minor": 2
}
